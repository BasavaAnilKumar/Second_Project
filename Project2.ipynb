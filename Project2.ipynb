{
 "cells": [
  {
   "cell_type": "code",
   "execution_count": 3,
   "id": "1626bc44-3583-4130-9348-82082ecf0e6c",
   "metadata": {},
   "outputs": [
    {
     "name": "stdout",
     "output_type": "stream",
     "text": [
      "Collecting fakerNote: you may need to restart the kernel to use updated packages.\n",
      "\n",
      "  Downloading Faker-28.1.0-py3-none-any.whl (1.8 MB)\n",
      "Requirement already satisfied: python-dateutil>=2.4 in c:\\users\\mrakb\\appdata\\local\\programs\\python\\python310\\lib\\site-packages (from faker) (2.9.0.post0)\n",
      "Requirement already satisfied: six>=1.5 in c:\\users\\mrakb\\appdata\\local\\programs\\python\\python310\\lib\\site-packages (from python-dateutil>=2.4->faker) (1.16.0)\n",
      "Installing collected packages: faker\n",
      "Successfully installed faker-28.1.0\n"
     ]
    },
    {
     "name": "stderr",
     "output_type": "stream",
     "text": [
      "WARNING: You are using pip version 21.2.4; however, version 24.2 is available.\n",
      "You should consider upgrading via the 'C:\\Users\\MrAKB\\AppData\\Local\\Programs\\Python\\Python310\\python.exe -m pip install --upgrade pip' command.\n"
     ]
    }
   ],
   "source": [
    "pip install faker"
   ]
  },
  {
   "cell_type": "code",
   "execution_count": 4,
   "id": "c5f06915-5efb-41d8-affb-99ff2d9bd6b3",
   "metadata": {},
   "outputs": [],
   "source": [
    "import csv\n",
    "import random\n",
    "from faker import Faker\n",
    "from datetime import datetime"
   ]
  },
  {
   "cell_type": "code",
   "execution_count": 5,
   "id": "ddeca717-95af-4b94-bdaa-e5e075595c85",
   "metadata": {},
   "outputs": [],
   "source": [
    "# Initialize Faker\n",
    "fake = Faker()\n",
    "random.seed(42)"
   ]
  },
  {
   "cell_type": "code",
   "execution_count": 6,
   "id": "bd845fee-7140-4de0-b6aa-f3d846a5f704",
   "metadata": {},
   "outputs": [],
   "source": [
    "# Define the schema fields\n",
    "fields = [\n",
    "    'order_id', 'customer_id', 'customer_name', 'product_id', 'product_name',\n",
    "    'product_category', 'payment_type', 'qty', 'price', 'datetime', 'country',\n",
    "    'city', 'ecommerce_website_name', 'payment_txn_id', 'payment_txn_success',\n",
    "    'failure_reason'\n",
    "]"
   ]
  },
  {
   "cell_type": "code",
   "execution_count": 7,
   "id": "a8476bf7-960a-4cc5-8385-4c4f31f3755b",
   "metadata": {},
   "outputs": [],
   "source": [
    "# Define sample data\n",
    "product_categories = ['Stationery', 'Electronics', 'Books', 'Clothing', 'Toys']\n",
    "payment_types = ['Card', 'Internet Banking', 'UPI', 'Wallet']\n",
    "countries = {\n",
    "    'India': ['Mumbai', 'Delhi', 'Bengaluru', 'Chennai', 'Kolkata'],\n",
    "    'USA': ['New York', 'Los Angeles', 'Chicago', 'Houston', 'Boston'],\n",
    "    'UK': ['London', 'Manchester', 'Birmingham', 'Leeds', 'Oxford'],\n",
    "    'Germany': ['Berlin', 'Munich', 'Frankfurt', 'Hamburg', 'Stuttgart']\n",
    "}\n",
    "websites = ['www.amazon.com', 'www.flipkart.com', 'www.ebay.in', 'www.tatacliq.com', 'www.snapdeal.com']"
   ]
  },
  {
   "cell_type": "code",
   "execution_count": 8,
   "id": "2d3a44cb-ef2a-4319-9f47-f77f8e52029b",
   "metadata": {},
   "outputs": [],
   "source": [
    "# Function to generate a single record\n",
    "def generate_record(order_id):\n",
    "    customer_id = random.randint(100, 999)\n",
    "    customer_name = fake.name()\n",
    "    product_id = random.randint(200, 299)\n",
    "    product_name = fake.word().capitalize()\n",
    "    product_category = random.choice(product_categories)\n",
    "    payment_type = random.choice(payment_types)\n",
    "    qty = random.randint(1, 10)\n",
    "    price = round(random.uniform(5.0, 1000.0), 2)\n",
    "    order_datetime = fake.date_time_between(start_date='-1y', end_date='now').strftime(\"%Y-%m-%d %H:%M\")\n",
    "    country = random.choice(list(countries.keys()))\n",
    "    city = random.choice(countries[country])\n",
    "    ecommerce_website_name = random.choice(websites)\n",
    "    payment_txn_id = fake.uuid4().split('-')[0]\n",
    "    payment_txn_success = random.choice(['Y', 'N'])\n",
    "    failure_reason = \"\" if payment_txn_success == 'Y' else \"Invalid CVV.\"\n",
    "    \n",
    "    return [\n",
    "        order_id, customer_id, customer_name, product_id, product_name,\n",
    "        product_category, payment_type, qty, price, order_datetime, country,\n",
    "        city, ecommerce_website_name, payment_txn_id, payment_txn_success,\n",
    "        failure_reason\n",
    "    ]"
   ]
  },
  {
   "cell_type": "code",
   "execution_count": 9,
   "id": "bdd6bed5-76a5-4c23-a91d-05bdc0bef98c",
   "metadata": {},
   "outputs": [
    {
     "name": "stdout",
     "output_type": "stream",
     "text": [
      "Data generation complete. The file 'ecommerce_data.csv' has been created.\n"
     ]
    }
   ],
   "source": [
    "# Generate 10,000 records and write to CSV\n",
    "with open('ecommerce_data.csv', 'w', newline='') as file:\n",
    "    writer = csv.writer(file)\n",
    "    writer.writerow(fields)  # Write the header\n",
    "    for order_id in range(1, 10001):\n",
    "        writer.writerow(generate_record(order_id))\n",
    "\n",
    "print(\"Data generation complete. The file 'ecommerce_data.csv' has been created.\") "
   ]
  },
  {
   "cell_type": "markdown",
   "id": "435fdcf4-8239-442e-b23e-b5f94305e0ab",
   "metadata": {},
   "source": [
    "EDA ANALYSIS"
   ]
  },
  {
   "cell_type": "code",
   "execution_count": 10,
   "id": "1d638373-b424-4a75-9044-7c6fad614378",
   "metadata": {},
   "outputs": [],
   "source": [
    "import pandas as pd\n",
    "import seaborn as sns\n",
    "import matplotlib.pyplot as plt"
   ]
  },
  {
   "cell_type": "code",
   "execution_count": 11,
   "id": "a582ba31-f22a-4272-a52b-30b966f7d7c0",
   "metadata": {},
   "outputs": [
    {
     "name": "stdout",
     "output_type": "stream",
     "text": [
      "      order_id  customer_id        customer_name  product_id product_name  \\\n",
      "0            1          754  Mrs. Jasmine Sawyer         214          Bit   \n",
      "1            2          132         Aaron Wagner         203        Point   \n",
      "2            3          325          Brian Patel         257         Read   \n",
      "3            4          259         Jean Lambert         227     Anything   \n",
      "4            5          926          Blake Kelly         205         Next   \n",
      "...        ...          ...                  ...         ...          ...   \n",
      "9995      9996          718        Nicole Vargas         204   Throughout   \n",
      "9996      9997          991          Hannah King         218        Stuff   \n",
      "9997      9998          182        Kristen Simon         211    Agreement   \n",
      "9998      9999          326    Ashley Richardson         209       Return   \n",
      "9999     10000          106       Sarah Reynolds         295       Agency   \n",
      "\n",
      "     product_category      payment_type  qty   price          datetime  \\\n",
      "0          Stationery               UPI    4  227.09  2024-01-26 13:33   \n",
      "1          Stationery  Internet Banking    4  507.83  2024-02-15 02:40   \n",
      "2                Toys               UPI    1  760.01  2024-03-09 07:27   \n",
      "3               Books              Card    2  383.03  2024-04-03 06:28   \n",
      "4            Clothing              Card    7   83.41  2023-09-26 00:19   \n",
      "...               ...               ...  ...     ...               ...   \n",
      "9995       Stationery               UPI    2  514.36  2023-09-20 17:46   \n",
      "9996       Stationery            Wallet    7  829.09  2024-01-13 14:53   \n",
      "9997         Clothing               UPI    6  117.77  2023-10-08 10:33   \n",
      "9998       Stationery              Card    2  730.16  2024-05-19 18:38   \n",
      "9999             Toys               UPI   10  476.13  2024-03-27 14:11   \n",
      "\n",
      "      country        city ecommerce_website_name payment_txn_id  \\\n",
      "0       India     Kolkata         www.amazon.com       f92a0881   \n",
      "1       India     Kolkata       www.flipkart.com       b999c0db   \n",
      "2         USA     Houston            www.ebay.in       d048967e   \n",
      "3          UK  Birmingham       www.snapdeal.com       5dedec36   \n",
      "4          UK      Oxford            www.ebay.in       8f4d9774   \n",
      "...       ...         ...                    ...            ...   \n",
      "9995    India       Delhi       www.tatacliq.com       a9570b9e   \n",
      "9996    India      Mumbai       www.flipkart.com       b3bb8cfa   \n",
      "9997      USA     Chicago       www.tatacliq.com       ee035571   \n",
      "9998  Germany      Berlin         www.amazon.com       ec998b09   \n",
      "9999  Germany      Berlin       www.tatacliq.com       07d890d5   \n",
      "\n",
      "     payment_txn_success failure_reason  \n",
      "0                      N   Invalid CVV.  \n",
      "1                      N   Invalid CVV.  \n",
      "2                      N   Invalid CVV.  \n",
      "3                      N   Invalid CVV.  \n",
      "4                      Y            NaN  \n",
      "...                  ...            ...  \n",
      "9995                   N   Invalid CVV.  \n",
      "9996                   Y            NaN  \n",
      "9997                   N   Invalid CVV.  \n",
      "9998                   Y            NaN  \n",
      "9999                   Y            NaN  \n",
      "\n",
      "[10000 rows x 16 columns]\n"
     ]
    }
   ],
   "source": [
    "# Load the dataset\n",
    "data = pd.read_csv('ecommerce_data.csv')\n",
    "print(data)"
   ]
  },
  {
   "cell_type": "code",
   "execution_count": 12,
   "id": "25ca90f5-32c4-4f19-b11c-ac5f2660e30d",
   "metadata": {},
   "outputs": [
    {
     "name": "stdout",
     "output_type": "stream",
     "text": [
      "   order_id  customer_id        customer_name  product_id product_name  \\\n",
      "0         1          754  Mrs. Jasmine Sawyer         214          Bit   \n",
      "1         2          132         Aaron Wagner         203        Point   \n",
      "2         3          325          Brian Patel         257         Read   \n",
      "3         4          259         Jean Lambert         227     Anything   \n",
      "4         5          926          Blake Kelly         205         Next   \n",
      "\n",
      "  product_category      payment_type  qty   price          datetime country  \\\n",
      "0       Stationery               UPI    4  227.09  2024-01-26 13:33   India   \n",
      "1       Stationery  Internet Banking    4  507.83  2024-02-15 02:40   India   \n",
      "2             Toys               UPI    1  760.01  2024-03-09 07:27     USA   \n",
      "3            Books              Card    2  383.03  2024-04-03 06:28      UK   \n",
      "4         Clothing              Card    7   83.41  2023-09-26 00:19      UK   \n",
      "\n",
      "         city ecommerce_website_name payment_txn_id payment_txn_success  \\\n",
      "0     Kolkata         www.amazon.com       f92a0881                   N   \n",
      "1     Kolkata       www.flipkart.com       b999c0db                   N   \n",
      "2     Houston            www.ebay.in       d048967e                   N   \n",
      "3  Birmingham       www.snapdeal.com       5dedec36                   N   \n",
      "4      Oxford            www.ebay.in       8f4d9774                   Y   \n",
      "\n",
      "  failure_reason  \n",
      "0   Invalid CVV.  \n",
      "1   Invalid CVV.  \n",
      "2   Invalid CVV.  \n",
      "3   Invalid CVV.  \n",
      "4            NaN  \n"
     ]
    }
   ],
   "source": [
    "# Display the first few rows\n",
    "print(data.head())"
   ]
  },
  {
   "cell_type": "code",
   "execution_count": 13,
   "id": "eac70db8-b3b9-4b9b-9f93-829ca3e55601",
   "metadata": {},
   "outputs": [
    {
     "name": "stdout",
     "output_type": "stream",
     "text": [
      "<class 'pandas.core.frame.DataFrame'>\n",
      "RangeIndex: 10000 entries, 0 to 9999\n",
      "Data columns (total 16 columns):\n",
      " #   Column                  Non-Null Count  Dtype  \n",
      "---  ------                  --------------  -----  \n",
      " 0   order_id                10000 non-null  int64  \n",
      " 1   customer_id             10000 non-null  int64  \n",
      " 2   customer_name           10000 non-null  object \n",
      " 3   product_id              10000 non-null  int64  \n",
      " 4   product_name            9990 non-null   object \n",
      " 5   product_category        10000 non-null  object \n",
      " 6   payment_type            10000 non-null  object \n",
      " 7   qty                     10000 non-null  int64  \n",
      " 8   price                   10000 non-null  float64\n",
      " 9   datetime                10000 non-null  object \n",
      " 10  country                 10000 non-null  object \n",
      " 11  city                    10000 non-null  object \n",
      " 12  ecommerce_website_name  10000 non-null  object \n",
      " 13  payment_txn_id          10000 non-null  object \n",
      " 14  payment_txn_success     10000 non-null  object \n",
      " 15  failure_reason          4984 non-null   object \n",
      "dtypes: float64(1), int64(4), object(11)\n",
      "memory usage: 1.2+ MB\n",
      "None\n"
     ]
    }
   ],
   "source": [
    "# Display the data types and missing values\n",
    "print(data.info())"
   ]
  },
  {
   "cell_type": "code",
   "execution_count": 14,
   "id": "2da594d7-0639-45f7-a1a8-f71c01a4cbd6",
   "metadata": {},
   "outputs": [
    {
     "name": "stdout",
     "output_type": "stream",
     "text": [
      "          order_id   customer_id    product_id         qty         price\n",
      "count  10000.00000  10000.000000  10000.000000  10000.0000  10000.000000\n",
      "mean    5000.50000    547.739500    249.302400      5.5123    506.977226\n",
      "std     2886.89568    260.198988     29.047935      2.8701    289.339545\n",
      "min        1.00000    100.000000    200.000000      1.0000      5.050000\n",
      "25%     2500.75000    321.000000    224.000000      3.0000    254.002500\n",
      "50%     5000.50000    542.000000    249.000000      5.0000    507.120000\n",
      "75%     7500.25000    774.000000    275.000000      8.0000    760.857500\n",
      "max    10000.00000    999.000000    299.000000     10.0000    999.980000\n"
     ]
    }
   ],
   "source": [
    "# Summary statistics for numerical columns\n",
    "print(data.describe())"
   ]
  },
  {
   "cell_type": "code",
   "execution_count": 15,
   "id": "59761d6f-9ca8-41cb-bedf-01c6e6900f7f",
   "metadata": {},
   "outputs": [
    {
     "name": "stdout",
     "output_type": "stream",
     "text": [
      "order_id                    int64\n",
      "customer_id                 int64\n",
      "customer_name              object\n",
      "product_id                  int64\n",
      "product_name               object\n",
      "product_category           object\n",
      "payment_type               object\n",
      "qty                         int64\n",
      "price                     float64\n",
      "datetime                   object\n",
      "country                    object\n",
      "city                       object\n",
      "ecommerce_website_name     object\n",
      "payment_txn_id             object\n",
      "payment_txn_success        object\n",
      "failure_reason             object\n",
      "dtype: object\n"
     ]
    }
   ],
   "source": [
    "# checking the data types of each column\n",
    "print(data.dtypes)"
   ]
  },
  {
   "cell_type": "code",
   "execution_count": 16,
   "id": "03dcae1d-c9cb-4dfc-afb6-a4a5e596f8f9",
   "metadata": {},
   "outputs": [
    {
     "name": "stdout",
     "output_type": "stream",
     "text": [
      "order_id                     0\n",
      "customer_id                  0\n",
      "customer_name                0\n",
      "product_id                   0\n",
      "product_name                10\n",
      "product_category             0\n",
      "payment_type                 0\n",
      "qty                          0\n",
      "price                        0\n",
      "datetime                     0\n",
      "country                      0\n",
      "city                         0\n",
      "ecommerce_website_name       0\n",
      "payment_txn_id               0\n",
      "payment_txn_success          0\n",
      "failure_reason            5016\n",
      "dtype: int64\n"
     ]
    }
   ],
   "source": [
    "# Check for missing values\n",
    "print(data.isnull().sum())"
   ]
  },
  {
   "cell_type": "code",
   "execution_count": 19,
   "id": "5242b3d9-a842-46a4-ab02-47b5b7643aba",
   "metadata": {},
   "outputs": [
    {
     "name": "stdout",
     "output_type": "stream",
     "text": [
      "Inserted the null values for products\n"
     ]
    }
   ],
   "source": [
    "#Filling the null values \n",
    "data = data.assign(product_name = data['product_name'].fillna('Unknown Product'))\n",
    "print(\"Inserted the null values for products\")"
   ]
  },
  {
   "cell_type": "code",
   "execution_count": 17,
   "id": "cfc7a118-200a-464e-9569-69e86fb8cca6",
   "metadata": {},
   "outputs": [
    {
     "name": "stdout",
     "output_type": "stream",
     "text": [
      "0\n"
     ]
    }
   ],
   "source": [
    "# Check for duplicates\n",
    "print(data.duplicated().sum())"
   ]
  }
 ],
 "metadata": {
  "kernelspec": {
   "display_name": "PySpark 3.3.1",
   "language": "python",
   "name": "pyspark3.3.1"
  },
  "language_info": {
   "codemirror_mode": {
    "name": "ipython",
    "version": 3
   },
   "file_extension": ".py",
   "mimetype": "text/x-python",
   "name": "python",
   "nbconvert_exporter": "python",
   "pygments_lexer": "ipython3",
   "version": "3.10.1"
  }
 },
 "nbformat": 4,
 "nbformat_minor": 5
}
